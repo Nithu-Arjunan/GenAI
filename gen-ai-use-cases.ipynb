{
  "cells": [
    {
      "cell_type": "code",
      "id": "oKwIVUELDhwx0nWja2yBgOMw",
      "metadata": {
        "tags": [],
        "id": "oKwIVUELDhwx0nWja2yBgOMw",
        "colab": {
          "base_uri": "https://localhost:8080/"
        },
        "executionInfo": {
          "status": "ok",
          "timestamp": 1736343804686,
          "user_tz": -240,
          "elapsed": 26996,
          "user": {
            "displayName": "",
            "userId": ""
          }
        },
        "outputId": "34354219-eb50-461b-8dad-cd4037666b66"
      },
      "source": [
        "%pip install --upgrade --quiet google-cloud-aiplatform"
      ],
      "execution_count": null,
      "outputs": [
        {
          "output_type": "stream",
          "name": "stdout",
          "text": [
            "\u001b[?25l   \u001b[90m━━━━━━━━━━━━━━━━━━━━━━━━━━━━━━━━━━━━━━━━\u001b[0m \u001b[32m0.0/6.9 MB\u001b[0m \u001b[31m?\u001b[0m eta \u001b[36m-:--:--\u001b[0m\r\u001b[2K   \u001b[91m━━━\u001b[0m\u001b[91m╸\u001b[0m\u001b[90m━━━━━━━━━━━━━━━━━━━━━━━━━━━━━━━━━━━━\u001b[0m \u001b[32m0.6/6.9 MB\u001b[0m \u001b[31m19.2 MB/s\u001b[0m eta \u001b[36m0:00:01\u001b[0m\r\u001b[2K   \u001b[91m━━━━━━━━━━━━━━━━━━━━━\u001b[0m\u001b[91m╸\u001b[0m\u001b[90m━━━━━━━━━━━━━━━━━━\u001b[0m \u001b[32m3.8/6.9 MB\u001b[0m \u001b[31m54.2 MB/s\u001b[0m eta \u001b[36m0:00:01\u001b[0m\r\u001b[2K   \u001b[91m━━━━━━━━━━━━━━━━━━━━━━━━━━━━━━━━━━━━━━━\u001b[0m\u001b[91m╸\u001b[0m \u001b[32m6.9/6.9 MB\u001b[0m \u001b[31m73.7 MB/s\u001b[0m eta \u001b[36m0:00:01\u001b[0m\r\u001b[2K   \u001b[90m━━━━━━━━━━━━━━━━━━━━━━━━━━━━━━━━━━━━━━━━\u001b[0m \u001b[32m6.9/6.9 MB\u001b[0m \u001b[31m56.8 MB/s\u001b[0m eta \u001b[36m0:00:00\u001b[0m\n",
            "\u001b[?25h"
          ]
        }
      ]
    },
    {
      "cell_type": "code",
      "source": [
        "from inspect import cleandoc\n",
        "from IPython.display import display, Markdown\n",
        "\n",
        "import vertexai\n",
        "from vertexai.generative_models import GenerativeModel, GenerationConfig"
      ],
      "metadata": {
        "id": "D54oTY_fLLwn",
        "executionInfo": {
          "status": "ok",
          "timestamp": 1736344140779,
          "user_tz": -240,
          "elapsed": 5522,
          "user": {
            "displayName": "",
            "userId": ""
          }
        }
      },
      "id": "D54oTY_fLLwn",
      "execution_count": 1,
      "outputs": []
    },
    {
      "cell_type": "code",
      "source": [
        "# Initialize Vertex AI\n",
        "PROJECT = !gcloud config get-value project\n",
        "PROJECT_ID = PROJECT[0]\n",
        "REGION = \"us-central1\"\n",
        "vertexai.init(project=PROJECT_ID, location=REGION)"
      ],
      "metadata": {
        "id": "qNJSr-vKLWOt",
        "executionInfo": {
          "status": "ok",
          "timestamp": 1736344181613,
          "user_tz": -240,
          "elapsed": 1719,
          "user": {
            "displayName": "",
            "userId": ""
          }
        }
      },
      "id": "qNJSr-vKLWOt",
      "execution_count": 2,
      "outputs": []
    },
    {
      "cell_type": "code",
      "source": [
        "# Load the generative AI model\n",
        "model = GenerativeModel(\"gemini-pro\")\n"
      ],
      "metadata": {
        "id": "eXxS3WTNLeS6",
        "executionInfo": {
          "status": "ok",
          "timestamp": 1736344205398,
          "user_tz": -240,
          "elapsed": 3,
          "user": {
            "displayName": "",
            "userId": ""
          }
        }
      },
      "id": "eXxS3WTNLeS6",
      "execution_count": 3,
      "outputs": []
    },
    {
      "cell_type": "code",
      "source": [
        "# To generate new content\n",
        "creative_gen_config = GenerationConfig(temperature=1, top_p=0.8)"
      ],
      "metadata": {
        "id": "pc6n38BNLprn",
        "executionInfo": {
          "status": "ok",
          "timestamp": 1736344311508,
          "user_tz": -240,
          "elapsed": 721,
          "user": {
            "displayName": "",
            "userId": ""
          }
        }
      },
      "id": "pc6n38BNLprn",
      "execution_count": 4,
      "outputs": []
    },
    {
      "cell_type": "code",
      "source": [
        "prompt = \"What are some strategies for overcoming writer's block?\"\n",
        "\n",
        "response = model.generate_content(prompt,\n",
        "                                  generation_config=creative_gen_config)\n",
        "print(response.text)"
      ],
      "metadata": {
        "colab": {
          "base_uri": "https://localhost:8080/"
        },
        "id": "uS_QdqeOL6NG",
        "executionInfo": {
          "status": "ok",
          "timestamp": 1736344352021,
          "user_tz": -240,
          "elapsed": 7073,
          "user": {
            "displayName": "",
            "userId": ""
          }
        },
        "outputId": "ca499a18-a1bd-4cc4-e51e-ada008f8e9b2"
      },
      "id": "uS_QdqeOL6NG",
      "execution_count": 5,
      "outputs": [
        {
          "output_type": "stream",
          "name": "stdout",
          "text": [
            "## Strategies to Overcome Writer's Block\n",
            "\n",
            "Writer's block is a common experience, and it can be frustrating. But there are several things you can do to overcome it. Here are a few strategies:\n",
            "\n",
            "**Identify the cause:**\n",
            "\n",
            "- Is it fear of failure?\n",
            "- Difficulty getting started?\n",
            "- Lack of inspiration?\n",
            "- Feeling overwhelmed?\n",
            "\n",
            "**Once you know the cause, you can try the following strategies:**\n",
            "\n",
            "**1. Take a break:**\n",
            "\n",
            "- Get up and move around, go for a walk, or do something else you enjoy.\n",
            "- Don't force yourself to write when you're not feeling it.\n",
            "\n",
            "**2. Write freely:**\n",
            "\n",
            "- Don't worry about grammar, spelling, or making sense.\n",
            "- Just write whatever comes to mind.\n",
            "- This can help you get your creative juices flowing.\n",
            "\n",
            "**3. Break down the task:**\n",
            "\n",
            "- If you're feeling overwhelmed, break your writing task down into smaller, more manageable chunks.\n",
            "- This can make it seem less daunting.\n",
            "\n",
            "**4. Set a timer:**\n",
            "\n",
            "- Set a timer for 10-15 minutes and write non-stop until the timer goes off.\n",
            "- This can help you overcome procrastination and get started.\n",
            "\n",
            "**5. Freewriting:**\n",
            "\n",
            "- Write continuously for a set amount of time, ignoring grammar, spelling, and punctuation.\n",
            "- This can help you access your subconscious and generate new ideas.\n",
            "\n",
            "**6. Use prompts:**\n",
            "\n",
            "- There are many online resources that offer writing prompts.\n",
            "- These can help you get started if you're feeling stuck.\n",
            "\n",
            "**7. Read:**\n",
            "\n",
            "- Reading the work of other writers can inspire you and help you learn new techniques.\n",
            "- Pay attention to how other writers structure their work and develop their characters.\n",
            "\n",
            "**8. Talk to someone:**\n",
            "\n",
            "- Talking to a friend, family member, or therapist can help you process your thoughts and feelings.\n",
            "- They may also be able to offer some helpful advice.\n",
            "\n",
            "**9. Take care of yourself:**\n",
            "\n",
            "- Make sure you're getting enough sleep, eating healthy foods, and exercising regularly.\n",
            "- These things can help improve your mood and energy levels, which can make writing easier.\n",
            "\n",
            "**Remember, writer's block is temporary. Don't give up!**\n",
            "\n",
            "Here are some additional resources that you may find helpful:\n",
            "\n",
            "- **Writer's Digest:** https://www.writersdigest.com/\n",
            "- **The Creative Penn:** https://www.thecreativepenn.com/\n",
            "- **Helping Writers Become Authors:** https://helpingwritersbecomeauthors.com/\n",
            "\n",
            "I hope this helps!\n"
          ]
        }
      ]
    },
    {
      "cell_type": "code",
      "source": [
        "prompt = \"Provide ten interview questions for the role of prompt engineer.\"\n",
        "\n",
        "response = model.generate_content(prompt,\n",
        "                                  generation_config=creative_gen_config)\n",
        "print(response.text)"
      ],
      "metadata": {
        "colab": {
          "base_uri": "https://localhost:8080/"
        },
        "id": "w9B1HVcsMHgf",
        "executionInfo": {
          "status": "ok",
          "timestamp": 1736344401974,
          "user_tz": -240,
          "elapsed": 5174,
          "user": {
            "displayName": "",
            "userId": ""
          }
        },
        "outputId": "b6f6b74c-b5b6-4875-a5fe-ee399a5a2e46"
      },
      "id": "w9B1HVcsMHgf",
      "execution_count": 6,
      "outputs": [
        {
          "output_type": "stream",
          "name": "stdout",
          "text": [
            "## Ten Interview Questions for a Prompt Engineer:\n",
            "\n",
            "**Technical Skills:**\n",
            "\n",
            "1. **What are the different types of prompts used in large language models (LLMs)? How do you choose the right type of prompt for a specific task?**\n",
            "2. **Explain the concept of prompt injection and its role in fine-tuning LLMs. Have you used prompt injection in any of your projects?**\n",
            "3. **Describe a situation where you had to debug a prompt that was not performing as expected. What steps did you take to identify and fix the issue?**\n",
            "4. **How do you stay up-to-date with the latest research and advancements in the field of prompt engineering?**\n",
            "5. **Explain your understanding of how prompts influence the factual accuracy and bias of LLM outputs.**\n",
            "\n",
            "**Problem-Solving and Communication Skills:**\n",
            "\n",
            "6. **Describe a challenging prompt engineering task you faced and how you overcame it. What did you learn from the experience?**\n",
            "7. **Imagine you are tasked with creating prompts for a new LLM-based application. How would you approach this task, and what steps would you take to ensure the prompts are effective?**\n",
            "8. **Explain how you would collaborate with other members of a development team (e.g., data scientists, software engineers) to design and implement a prompt-based system.**\n",
            "9. **How would you explain the concept of prompt engineering to someone unfamiliar with the field?**\n",
            "10. **Do you have any experience with evaluating the performance of prompts? If so, what metrics do you use and how do you interpret them?**\n",
            "\n",
            "These questions are designed to assess a candidate's understanding of prompt engineering principles, their ability to troubleshoot and solve problems, and their communication skills. The answers will also provide insights into the candidate's experience and project portfolio.\n"
          ]
        }
      ]
    },
    {
      "cell_type": "code",
      "source": [
        "# Text classification\n",
        "\n",
        "predictable_gen_config = GenerationConfig(temperature=0.1, top_p=0.1)"
      ],
      "metadata": {
        "id": "nnRFUyKCMYRn",
        "executionInfo": {
          "status": "ok",
          "timestamp": 1736344453807,
          "user_tz": -240,
          "elapsed": 820,
          "user": {
            "displayName": "",
            "userId": ""
          }
        }
      },
      "id": "nnRFUyKCMYRn",
      "execution_count": 7,
      "outputs": []
    },
    {
      "cell_type": "code",
      "source": [
        "prompt = \"\"\"\n",
        "Given a user's input, classify their intent, such as \"finding information\", \"making a reservation\", or \"placing an order\". \\n\n",
        "user input: Hi, can you please book a table for two at Juan for May 1?\n",
        "\"\"\"\n",
        "\n",
        "response = model.generate_content(\n",
        "    prompt, generation_config=predictable_gen_config\n",
        ")\n",
        "print(response.text)"
      ],
      "metadata": {
        "colab": {
          "base_uri": "https://localhost:8080/"
        },
        "id": "CCbKs_IuMYUf",
        "executionInfo": {
          "status": "ok",
          "timestamp": 1736344467654,
          "user_tz": -240,
          "elapsed": 830,
          "user": {
            "displayName": "",
            "userId": ""
          }
        },
        "outputId": "f56fc1e0-ea40-40b1-d873-7c53de81418c"
      },
      "id": "CCbKs_IuMYUf",
      "execution_count": 8,
      "outputs": [
        {
          "output_type": "stream",
          "name": "stdout",
          "text": [
            "## Intent: Making a reservation\n",
            "\n",
            "The user is requesting to book a table for two at a restaurant called Juan for May 1st. This falls under the category of \"making a reservation\". \n",
            "\n"
          ]
        }
      ]
    },
    {
      "cell_type": "code",
      "source": [
        "prompt = \"\"\"\n",
        "What is the topic for a given news headline? \\n\n",
        "- business \\n\n",
        "- entertainment \\n\n",
        "- health \\n\n",
        "- sports \\n\n",
        "- technology \\n\\n\n",
        "\n",
        "Text: Pixel 7 Pro Expert Hands On Review. \\n\n",
        "The answer is: technology \\n\n",
        "\n",
        "Text: Quit smoking? \\n\n",
        "The answer is: health \\n\n",
        "\n",
        "Text: Birdies or bogeys? Top 5 tips to hit under par \\n\n",
        "The answer is: sports \\n\n",
        "\n",
        "Text: Relief from local minimum-wage hike looking more remote \\n\n",
        "The answer is: business \\n\n",
        "\n",
        "Text: You won't guess who just arrived in Bari, Italy for the movie premiere. \\n\n",
        "The answer is:\n",
        "\"\"\"\n",
        "\n",
        "response = model.generate_content(\n",
        "    prompt, generation_config=predictable_gen_config\n",
        ")\n",
        "print(response.text)"
      ],
      "metadata": {
        "colab": {
          "base_uri": "https://localhost:8080/"
        },
        "id": "qi26ktfCMYYJ",
        "executionInfo": {
          "status": "ok",
          "timestamp": 1736344553842,
          "user_tz": -240,
          "elapsed": 963,
          "user": {
            "displayName": "",
            "userId": ""
          }
        },
        "outputId": "b616cb2b-526e-4ff9-cd8f-f0b78864dea5"
      },
      "id": "qi26ktfCMYYJ",
      "execution_count": 9,
      "outputs": [
        {
          "output_type": "stream",
          "name": "stdout",
          "text": [
            "entertainment \n",
            "\n"
          ]
        }
      ]
    },
    {
      "cell_type": "code",
      "source": [
        "import pandas as pd\n",
        "from sklearn.metrics import classification_report\n",
        "\n",
        "review_data_df = pd.DataFrame(\n",
        "    {\n",
        "        \"review\": [\n",
        "            \"i love this product. it does have everything i am looking for!\",\n",
        "            \"all i can say is that you will be happy after buying this product\",\n",
        "            \"its way too expensive and not worth the price\",\n",
        "            \"i am feeling okay. its neither good nor too bad.\",\n",
        "        ],\n",
        "        \"sentiment_groundtruth\": [\"positive\", \"positive\", \"negative\", \"neutral\"],\n",
        "    }\n",
        ")\n",
        "\n",
        "review_data_df"
      ],
      "metadata": {
        "colab": {
          "base_uri": "https://localhost:8080/",
          "height": 175
        },
        "id": "ruSIqdY9M-dO",
        "executionInfo": {
          "status": "ok",
          "timestamp": 1736344613256,
          "user_tz": -240,
          "elapsed": 5279,
          "user": {
            "displayName": "",
            "userId": ""
          }
        },
        "outputId": "5be6e7a1-b1fe-4113-b0e7-c222d47edba5"
      },
      "id": "ruSIqdY9M-dO",
      "execution_count": 10,
      "outputs": [
        {
          "output_type": "execute_result",
          "data": {
            "text/plain": [
              "                                              review sentiment_groundtruth\n",
              "0  i love this product. it does have everything i...              positive\n",
              "1  all i can say is that you will be happy after ...              positive\n",
              "2      its way too expensive and not worth the price              negative\n",
              "3   i am feeling okay. its neither good nor too bad.               neutral"
            ],
            "text/html": [
              "\n",
              "  <div id=\"df-0d6aa16c-42a3-47db-a2a3-d48dbf89ca40\" class=\"colab-df-container\">\n",
              "    <div>\n",
              "<style scoped>\n",
              "    .dataframe tbody tr th:only-of-type {\n",
              "        vertical-align: middle;\n",
              "    }\n",
              "\n",
              "    .dataframe tbody tr th {\n",
              "        vertical-align: top;\n",
              "    }\n",
              "\n",
              "    .dataframe thead th {\n",
              "        text-align: right;\n",
              "    }\n",
              "</style>\n",
              "<table border=\"1\" class=\"dataframe\">\n",
              "  <thead>\n",
              "    <tr style=\"text-align: right;\">\n",
              "      <th></th>\n",
              "      <th>review</th>\n",
              "      <th>sentiment_groundtruth</th>\n",
              "    </tr>\n",
              "  </thead>\n",
              "  <tbody>\n",
              "    <tr>\n",
              "      <th>0</th>\n",
              "      <td>i love this product. it does have everything i...</td>\n",
              "      <td>positive</td>\n",
              "    </tr>\n",
              "    <tr>\n",
              "      <th>1</th>\n",
              "      <td>all i can say is that you will be happy after ...</td>\n",
              "      <td>positive</td>\n",
              "    </tr>\n",
              "    <tr>\n",
              "      <th>2</th>\n",
              "      <td>its way too expensive and not worth the price</td>\n",
              "      <td>negative</td>\n",
              "    </tr>\n",
              "    <tr>\n",
              "      <th>3</th>\n",
              "      <td>i am feeling okay. its neither good nor too bad.</td>\n",
              "      <td>neutral</td>\n",
              "    </tr>\n",
              "  </tbody>\n",
              "</table>\n",
              "</div>\n",
              "    <div class=\"colab-df-buttons\">\n",
              "\n",
              "  <div class=\"colab-df-container\">\n",
              "    <button class=\"colab-df-convert\" onclick=\"convertToInteractive('df-0d6aa16c-42a3-47db-a2a3-d48dbf89ca40')\"\n",
              "            title=\"Convert this dataframe to an interactive table.\"\n",
              "            style=\"display:none;\">\n",
              "\n",
              "  <svg xmlns=\"http://www.w3.org/2000/svg\" height=\"24px\" viewBox=\"0 -960 960 960\">\n",
              "    <path d=\"M120-120v-720h720v720H120Zm60-500h600v-160H180v160Zm220 220h160v-160H400v160Zm0 220h160v-160H400v160ZM180-400h160v-160H180v160Zm440 0h160v-160H620v160ZM180-180h160v-160H180v160Zm440 0h160v-160H620v160Z\"/>\n",
              "  </svg>\n",
              "    </button>\n",
              "\n",
              "  <style>\n",
              "    .colab-df-container {\n",
              "      display:flex;\n",
              "      gap: 12px;\n",
              "    }\n",
              "\n",
              "    .colab-df-convert {\n",
              "      background-color: #E8F0FE;\n",
              "      border: none;\n",
              "      border-radius: 50%;\n",
              "      cursor: pointer;\n",
              "      display: none;\n",
              "      fill: #1967D2;\n",
              "      height: 32px;\n",
              "      padding: 0 0 0 0;\n",
              "      width: 32px;\n",
              "    }\n",
              "\n",
              "    .colab-df-convert:hover {\n",
              "      background-color: #E2EBFA;\n",
              "      box-shadow: 0px 1px 2px rgba(60, 64, 67, 0.3), 0px 1px 3px 1px rgba(60, 64, 67, 0.15);\n",
              "      fill: #174EA6;\n",
              "    }\n",
              "\n",
              "    .colab-df-buttons div {\n",
              "      margin-bottom: 4px;\n",
              "    }\n",
              "\n",
              "    [theme=dark] .colab-df-convert {\n",
              "      background-color: #3B4455;\n",
              "      fill: #D2E3FC;\n",
              "    }\n",
              "\n",
              "    [theme=dark] .colab-df-convert:hover {\n",
              "      background-color: #434B5C;\n",
              "      box-shadow: 0px 1px 3px 1px rgba(0, 0, 0, 0.15);\n",
              "      filter: drop-shadow(0px 1px 2px rgba(0, 0, 0, 0.3));\n",
              "      fill: #FFFFFF;\n",
              "    }\n",
              "  </style>\n",
              "\n",
              "    <script>\n",
              "      const buttonEl =\n",
              "        document.querySelector('#df-0d6aa16c-42a3-47db-a2a3-d48dbf89ca40 button.colab-df-convert');\n",
              "      buttonEl.style.display =\n",
              "        google.colab.kernel.accessAllowed ? 'block' : 'none';\n",
              "\n",
              "      async function convertToInteractive(key) {\n",
              "        const element = document.querySelector('#df-0d6aa16c-42a3-47db-a2a3-d48dbf89ca40');\n",
              "        const dataTable =\n",
              "          await google.colab.kernel.invokeFunction('convertToInteractive',\n",
              "                                                    [key], {});\n",
              "        if (!dataTable) return;\n",
              "\n",
              "        const docLinkHtml = 'Like what you see? Visit the ' +\n",
              "          '<a target=\"_blank\" href=https://colab.research.google.com/notebooks/data_table.ipynb>data table notebook</a>'\n",
              "          + ' to learn more about interactive tables.';\n",
              "        element.innerHTML = '';\n",
              "        dataTable['output_type'] = 'display_data';\n",
              "        await google.colab.output.renderOutput(dataTable, element);\n",
              "        const docLink = document.createElement('div');\n",
              "        docLink.innerHTML = docLinkHtml;\n",
              "        element.appendChild(docLink);\n",
              "      }\n",
              "    </script>\n",
              "  </div>\n",
              "\n",
              "\n",
              "<div id=\"df-c5f32d8e-ddf2-4356-a48a-18649830cd97\">\n",
              "  <button class=\"colab-df-quickchart\" onclick=\"quickchart('df-c5f32d8e-ddf2-4356-a48a-18649830cd97')\"\n",
              "            title=\"Suggest charts\"\n",
              "            style=\"display:none;\">\n",
              "\n",
              "<svg xmlns=\"http://www.w3.org/2000/svg\" height=\"24px\"viewBox=\"0 0 24 24\"\n",
              "     width=\"24px\">\n",
              "    <g>\n",
              "        <path d=\"M19 3H5c-1.1 0-2 .9-2 2v14c0 1.1.9 2 2 2h14c1.1 0 2-.9 2-2V5c0-1.1-.9-2-2-2zM9 17H7v-7h2v7zm4 0h-2V7h2v10zm4 0h-2v-4h2v4z\"/>\n",
              "    </g>\n",
              "</svg>\n",
              "  </button>\n",
              "\n",
              "<style>\n",
              "  .colab-df-quickchart {\n",
              "      --bg-color: #E8F0FE;\n",
              "      --fill-color: #1967D2;\n",
              "      --hover-bg-color: #E2EBFA;\n",
              "      --hover-fill-color: #174EA6;\n",
              "      --disabled-fill-color: #AAA;\n",
              "      --disabled-bg-color: #DDD;\n",
              "  }\n",
              "\n",
              "  [theme=dark] .colab-df-quickchart {\n",
              "      --bg-color: #3B4455;\n",
              "      --fill-color: #D2E3FC;\n",
              "      --hover-bg-color: #434B5C;\n",
              "      --hover-fill-color: #FFFFFF;\n",
              "      --disabled-bg-color: #3B4455;\n",
              "      --disabled-fill-color: #666;\n",
              "  }\n",
              "\n",
              "  .colab-df-quickchart {\n",
              "    background-color: var(--bg-color);\n",
              "    border: none;\n",
              "    border-radius: 50%;\n",
              "    cursor: pointer;\n",
              "    display: none;\n",
              "    fill: var(--fill-color);\n",
              "    height: 32px;\n",
              "    padding: 0;\n",
              "    width: 32px;\n",
              "  }\n",
              "\n",
              "  .colab-df-quickchart:hover {\n",
              "    background-color: var(--hover-bg-color);\n",
              "    box-shadow: 0 1px 2px rgba(60, 64, 67, 0.3), 0 1px 3px 1px rgba(60, 64, 67, 0.15);\n",
              "    fill: var(--button-hover-fill-color);\n",
              "  }\n",
              "\n",
              "  .colab-df-quickchart-complete:disabled,\n",
              "  .colab-df-quickchart-complete:disabled:hover {\n",
              "    background-color: var(--disabled-bg-color);\n",
              "    fill: var(--disabled-fill-color);\n",
              "    box-shadow: none;\n",
              "  }\n",
              "\n",
              "  .colab-df-spinner {\n",
              "    border: 2px solid var(--fill-color);\n",
              "    border-color: transparent;\n",
              "    border-bottom-color: var(--fill-color);\n",
              "    animation:\n",
              "      spin 1s steps(1) infinite;\n",
              "  }\n",
              "\n",
              "  @keyframes spin {\n",
              "    0% {\n",
              "      border-color: transparent;\n",
              "      border-bottom-color: var(--fill-color);\n",
              "      border-left-color: var(--fill-color);\n",
              "    }\n",
              "    20% {\n",
              "      border-color: transparent;\n",
              "      border-left-color: var(--fill-color);\n",
              "      border-top-color: var(--fill-color);\n",
              "    }\n",
              "    30% {\n",
              "      border-color: transparent;\n",
              "      border-left-color: var(--fill-color);\n",
              "      border-top-color: var(--fill-color);\n",
              "      border-right-color: var(--fill-color);\n",
              "    }\n",
              "    40% {\n",
              "      border-color: transparent;\n",
              "      border-right-color: var(--fill-color);\n",
              "      border-top-color: var(--fill-color);\n",
              "    }\n",
              "    60% {\n",
              "      border-color: transparent;\n",
              "      border-right-color: var(--fill-color);\n",
              "    }\n",
              "    80% {\n",
              "      border-color: transparent;\n",
              "      border-right-color: var(--fill-color);\n",
              "      border-bottom-color: var(--fill-color);\n",
              "    }\n",
              "    90% {\n",
              "      border-color: transparent;\n",
              "      border-bottom-color: var(--fill-color);\n",
              "    }\n",
              "  }\n",
              "</style>\n",
              "\n",
              "  <script>\n",
              "    async function quickchart(key) {\n",
              "      const quickchartButtonEl =\n",
              "        document.querySelector('#' + key + ' button');\n",
              "      quickchartButtonEl.disabled = true;  // To prevent multiple clicks.\n",
              "      quickchartButtonEl.classList.add('colab-df-spinner');\n",
              "      try {\n",
              "        const charts = await google.colab.kernel.invokeFunction(\n",
              "            'suggestCharts', [key], {});\n",
              "      } catch (error) {\n",
              "        console.error('Error during call to suggestCharts:', error);\n",
              "      }\n",
              "      quickchartButtonEl.classList.remove('colab-df-spinner');\n",
              "      quickchartButtonEl.classList.add('colab-df-quickchart-complete');\n",
              "    }\n",
              "    (() => {\n",
              "      let quickchartButtonEl =\n",
              "        document.querySelector('#df-c5f32d8e-ddf2-4356-a48a-18649830cd97 button');\n",
              "      quickchartButtonEl.style.display =\n",
              "        google.colab.kernel.accessAllowed ? 'block' : 'none';\n",
              "    })();\n",
              "  </script>\n",
              "</div>\n",
              "    </div>\n",
              "  </div>\n"
            ]
          },
          "metadata": {},
          "execution_count": 10
        }
      ]
    },
    {
      "cell_type": "code",
      "source": [
        "def get_sentiment(row):\n",
        "    prompt = f\"\"\"Classify the sentiment of the following review as \"positive\", \"neutral\" or \"negative\". Return only the classification.\n",
        "                review: {row}\n",
        "              \"\"\"\n",
        "    response = model.generate_content(\n",
        "        contents=prompt, generation_config=predictable_gen_config\n",
        "    ).text\n",
        "    return response\n",
        "\n",
        "\n",
        "review_data_df[\"sentiment_prediction\"] = review_data_df[\"review\"].apply(get_sentiment)\n",
        "review_data_df"
      ],
      "metadata": {
        "colab": {
          "base_uri": "https://localhost:8080/",
          "height": 175
        },
        "id": "GgEUkXiEM-g1",
        "executionInfo": {
          "status": "ok",
          "timestamp": 1736344693133,
          "user_tz": -240,
          "elapsed": 2522,
          "user": {
            "displayName": "",
            "userId": ""
          }
        },
        "outputId": "7f73e419-d300-45f0-9249-1cd5b40da0ff"
      },
      "id": "GgEUkXiEM-g1",
      "execution_count": 11,
      "outputs": [
        {
          "output_type": "execute_result",
          "data": {
            "text/plain": [
              "                                              review sentiment_groundtruth  \\\n",
              "0  i love this product. it does have everything i...              positive   \n",
              "1  all i can say is that you will be happy after ...              positive   \n",
              "2      its way too expensive and not worth the price              negative   \n",
              "3   i am feeling okay. its neither good nor too bad.               neutral   \n",
              "\n",
              "  sentiment_prediction  \n",
              "0        \"positive\" \\n  \n",
              "1             positive  \n",
              "2             Negative  \n",
              "3              neutral  "
            ],
            "text/html": [
              "\n",
              "  <div id=\"df-99c4b8d3-3063-4971-9d9b-61767ea9da85\" class=\"colab-df-container\">\n",
              "    <div>\n",
              "<style scoped>\n",
              "    .dataframe tbody tr th:only-of-type {\n",
              "        vertical-align: middle;\n",
              "    }\n",
              "\n",
              "    .dataframe tbody tr th {\n",
              "        vertical-align: top;\n",
              "    }\n",
              "\n",
              "    .dataframe thead th {\n",
              "        text-align: right;\n",
              "    }\n",
              "</style>\n",
              "<table border=\"1\" class=\"dataframe\">\n",
              "  <thead>\n",
              "    <tr style=\"text-align: right;\">\n",
              "      <th></th>\n",
              "      <th>review</th>\n",
              "      <th>sentiment_groundtruth</th>\n",
              "      <th>sentiment_prediction</th>\n",
              "    </tr>\n",
              "  </thead>\n",
              "  <tbody>\n",
              "    <tr>\n",
              "      <th>0</th>\n",
              "      <td>i love this product. it does have everything i...</td>\n",
              "      <td>positive</td>\n",
              "      <td>\"positive\" \\n</td>\n",
              "    </tr>\n",
              "    <tr>\n",
              "      <th>1</th>\n",
              "      <td>all i can say is that you will be happy after ...</td>\n",
              "      <td>positive</td>\n",
              "      <td>positive</td>\n",
              "    </tr>\n",
              "    <tr>\n",
              "      <th>2</th>\n",
              "      <td>its way too expensive and not worth the price</td>\n",
              "      <td>negative</td>\n",
              "      <td>Negative</td>\n",
              "    </tr>\n",
              "    <tr>\n",
              "      <th>3</th>\n",
              "      <td>i am feeling okay. its neither good nor too bad.</td>\n",
              "      <td>neutral</td>\n",
              "      <td>neutral</td>\n",
              "    </tr>\n",
              "  </tbody>\n",
              "</table>\n",
              "</div>\n",
              "    <div class=\"colab-df-buttons\">\n",
              "\n",
              "  <div class=\"colab-df-container\">\n",
              "    <button class=\"colab-df-convert\" onclick=\"convertToInteractive('df-99c4b8d3-3063-4971-9d9b-61767ea9da85')\"\n",
              "            title=\"Convert this dataframe to an interactive table.\"\n",
              "            style=\"display:none;\">\n",
              "\n",
              "  <svg xmlns=\"http://www.w3.org/2000/svg\" height=\"24px\" viewBox=\"0 -960 960 960\">\n",
              "    <path d=\"M120-120v-720h720v720H120Zm60-500h600v-160H180v160Zm220 220h160v-160H400v160Zm0 220h160v-160H400v160ZM180-400h160v-160H180v160Zm440 0h160v-160H620v160ZM180-180h160v-160H180v160Zm440 0h160v-160H620v160Z\"/>\n",
              "  </svg>\n",
              "    </button>\n",
              "\n",
              "  <style>\n",
              "    .colab-df-container {\n",
              "      display:flex;\n",
              "      gap: 12px;\n",
              "    }\n",
              "\n",
              "    .colab-df-convert {\n",
              "      background-color: #E8F0FE;\n",
              "      border: none;\n",
              "      border-radius: 50%;\n",
              "      cursor: pointer;\n",
              "      display: none;\n",
              "      fill: #1967D2;\n",
              "      height: 32px;\n",
              "      padding: 0 0 0 0;\n",
              "      width: 32px;\n",
              "    }\n",
              "\n",
              "    .colab-df-convert:hover {\n",
              "      background-color: #E2EBFA;\n",
              "      box-shadow: 0px 1px 2px rgba(60, 64, 67, 0.3), 0px 1px 3px 1px rgba(60, 64, 67, 0.15);\n",
              "      fill: #174EA6;\n",
              "    }\n",
              "\n",
              "    .colab-df-buttons div {\n",
              "      margin-bottom: 4px;\n",
              "    }\n",
              "\n",
              "    [theme=dark] .colab-df-convert {\n",
              "      background-color: #3B4455;\n",
              "      fill: #D2E3FC;\n",
              "    }\n",
              "\n",
              "    [theme=dark] .colab-df-convert:hover {\n",
              "      background-color: #434B5C;\n",
              "      box-shadow: 0px 1px 3px 1px rgba(0, 0, 0, 0.15);\n",
              "      filter: drop-shadow(0px 1px 2px rgba(0, 0, 0, 0.3));\n",
              "      fill: #FFFFFF;\n",
              "    }\n",
              "  </style>\n",
              "\n",
              "    <script>\n",
              "      const buttonEl =\n",
              "        document.querySelector('#df-99c4b8d3-3063-4971-9d9b-61767ea9da85 button.colab-df-convert');\n",
              "      buttonEl.style.display =\n",
              "        google.colab.kernel.accessAllowed ? 'block' : 'none';\n",
              "\n",
              "      async function convertToInteractive(key) {\n",
              "        const element = document.querySelector('#df-99c4b8d3-3063-4971-9d9b-61767ea9da85');\n",
              "        const dataTable =\n",
              "          await google.colab.kernel.invokeFunction('convertToInteractive',\n",
              "                                                    [key], {});\n",
              "        if (!dataTable) return;\n",
              "\n",
              "        const docLinkHtml = 'Like what you see? Visit the ' +\n",
              "          '<a target=\"_blank\" href=https://colab.research.google.com/notebooks/data_table.ipynb>data table notebook</a>'\n",
              "          + ' to learn more about interactive tables.';\n",
              "        element.innerHTML = '';\n",
              "        dataTable['output_type'] = 'display_data';\n",
              "        await google.colab.output.renderOutput(dataTable, element);\n",
              "        const docLink = document.createElement('div');\n",
              "        docLink.innerHTML = docLinkHtml;\n",
              "        element.appendChild(docLink);\n",
              "      }\n",
              "    </script>\n",
              "  </div>\n",
              "\n",
              "\n",
              "<div id=\"df-c02d72fe-f383-4850-9466-ff8d9cfabab1\">\n",
              "  <button class=\"colab-df-quickchart\" onclick=\"quickchart('df-c02d72fe-f383-4850-9466-ff8d9cfabab1')\"\n",
              "            title=\"Suggest charts\"\n",
              "            style=\"display:none;\">\n",
              "\n",
              "<svg xmlns=\"http://www.w3.org/2000/svg\" height=\"24px\"viewBox=\"0 0 24 24\"\n",
              "     width=\"24px\">\n",
              "    <g>\n",
              "        <path d=\"M19 3H5c-1.1 0-2 .9-2 2v14c0 1.1.9 2 2 2h14c1.1 0 2-.9 2-2V5c0-1.1-.9-2-2-2zM9 17H7v-7h2v7zm4 0h-2V7h2v10zm4 0h-2v-4h2v4z\"/>\n",
              "    </g>\n",
              "</svg>\n",
              "  </button>\n",
              "\n",
              "<style>\n",
              "  .colab-df-quickchart {\n",
              "      --bg-color: #E8F0FE;\n",
              "      --fill-color: #1967D2;\n",
              "      --hover-bg-color: #E2EBFA;\n",
              "      --hover-fill-color: #174EA6;\n",
              "      --disabled-fill-color: #AAA;\n",
              "      --disabled-bg-color: #DDD;\n",
              "  }\n",
              "\n",
              "  [theme=dark] .colab-df-quickchart {\n",
              "      --bg-color: #3B4455;\n",
              "      --fill-color: #D2E3FC;\n",
              "      --hover-bg-color: #434B5C;\n",
              "      --hover-fill-color: #FFFFFF;\n",
              "      --disabled-bg-color: #3B4455;\n",
              "      --disabled-fill-color: #666;\n",
              "  }\n",
              "\n",
              "  .colab-df-quickchart {\n",
              "    background-color: var(--bg-color);\n",
              "    border: none;\n",
              "    border-radius: 50%;\n",
              "    cursor: pointer;\n",
              "    display: none;\n",
              "    fill: var(--fill-color);\n",
              "    height: 32px;\n",
              "    padding: 0;\n",
              "    width: 32px;\n",
              "  }\n",
              "\n",
              "  .colab-df-quickchart:hover {\n",
              "    background-color: var(--hover-bg-color);\n",
              "    box-shadow: 0 1px 2px rgba(60, 64, 67, 0.3), 0 1px 3px 1px rgba(60, 64, 67, 0.15);\n",
              "    fill: var(--button-hover-fill-color);\n",
              "  }\n",
              "\n",
              "  .colab-df-quickchart-complete:disabled,\n",
              "  .colab-df-quickchart-complete:disabled:hover {\n",
              "    background-color: var(--disabled-bg-color);\n",
              "    fill: var(--disabled-fill-color);\n",
              "    box-shadow: none;\n",
              "  }\n",
              "\n",
              "  .colab-df-spinner {\n",
              "    border: 2px solid var(--fill-color);\n",
              "    border-color: transparent;\n",
              "    border-bottom-color: var(--fill-color);\n",
              "    animation:\n",
              "      spin 1s steps(1) infinite;\n",
              "  }\n",
              "\n",
              "  @keyframes spin {\n",
              "    0% {\n",
              "      border-color: transparent;\n",
              "      border-bottom-color: var(--fill-color);\n",
              "      border-left-color: var(--fill-color);\n",
              "    }\n",
              "    20% {\n",
              "      border-color: transparent;\n",
              "      border-left-color: var(--fill-color);\n",
              "      border-top-color: var(--fill-color);\n",
              "    }\n",
              "    30% {\n",
              "      border-color: transparent;\n",
              "      border-left-color: var(--fill-color);\n",
              "      border-top-color: var(--fill-color);\n",
              "      border-right-color: var(--fill-color);\n",
              "    }\n",
              "    40% {\n",
              "      border-color: transparent;\n",
              "      border-right-color: var(--fill-color);\n",
              "      border-top-color: var(--fill-color);\n",
              "    }\n",
              "    60% {\n",
              "      border-color: transparent;\n",
              "      border-right-color: var(--fill-color);\n",
              "    }\n",
              "    80% {\n",
              "      border-color: transparent;\n",
              "      border-right-color: var(--fill-color);\n",
              "      border-bottom-color: var(--fill-color);\n",
              "    }\n",
              "    90% {\n",
              "      border-color: transparent;\n",
              "      border-bottom-color: var(--fill-color);\n",
              "    }\n",
              "  }\n",
              "</style>\n",
              "\n",
              "  <script>\n",
              "    async function quickchart(key) {\n",
              "      const quickchartButtonEl =\n",
              "        document.querySelector('#' + key + ' button');\n",
              "      quickchartButtonEl.disabled = true;  // To prevent multiple clicks.\n",
              "      quickchartButtonEl.classList.add('colab-df-spinner');\n",
              "      try {\n",
              "        const charts = await google.colab.kernel.invokeFunction(\n",
              "            'suggestCharts', [key], {});\n",
              "      } catch (error) {\n",
              "        console.error('Error during call to suggestCharts:', error);\n",
              "      }\n",
              "      quickchartButtonEl.classList.remove('colab-df-spinner');\n",
              "      quickchartButtonEl.classList.add('colab-df-quickchart-complete');\n",
              "    }\n",
              "    (() => {\n",
              "      let quickchartButtonEl =\n",
              "        document.querySelector('#df-c02d72fe-f383-4850-9466-ff8d9cfabab1 button');\n",
              "      quickchartButtonEl.style.display =\n",
              "        google.colab.kernel.accessAllowed ? 'block' : 'none';\n",
              "    })();\n",
              "  </script>\n",
              "</div>\n",
              "    </div>\n",
              "  </div>\n"
            ]
          },
          "metadata": {},
          "execution_count": 11
        }
      ]
    },
    {
      "cell_type": "code",
      "source": [
        "report = classification_report(\n",
        "    review_data_df[\"sentiment_groundtruth\"], review_data_df[\"sentiment_prediction\"]\n",
        ")\n",
        "Markdown(report)"
      ],
      "metadata": {
        "colab": {
          "base_uri": "https://localhost:8080/",
          "height": 339
        },
        "id": "G4ZydBDSM-rI",
        "executionInfo": {
          "status": "ok",
          "timestamp": 1736344755251,
          "user_tz": -240,
          "elapsed": 938,
          "user": {
            "displayName": "",
            "userId": ""
          }
        },
        "outputId": "ae026112-5b60-4ae8-fb30-6194f0c34ae1"
      },
      "id": "G4ZydBDSM-rI",
      "execution_count": 12,
      "outputs": [
        {
          "output_type": "stream",
          "name": "stderr",
          "text": [
            "/usr/local/lib/python3.10/dist-packages/sklearn/metrics/_classification.py:1565: UndefinedMetricWarning: Precision is ill-defined and being set to 0.0 in labels with no predicted samples. Use `zero_division` parameter to control this behavior.\n",
            "  _warn_prf(average, modifier, f\"{metric.capitalize()} is\", len(result))\n",
            "/usr/local/lib/python3.10/dist-packages/sklearn/metrics/_classification.py:1565: UndefinedMetricWarning: Recall is ill-defined and being set to 0.0 in labels with no true samples. Use `zero_division` parameter to control this behavior.\n",
            "  _warn_prf(average, modifier, f\"{metric.capitalize()} is\", len(result))\n",
            "/usr/local/lib/python3.10/dist-packages/sklearn/metrics/_classification.py:1565: UndefinedMetricWarning: Precision is ill-defined and being set to 0.0 in labels with no predicted samples. Use `zero_division` parameter to control this behavior.\n",
            "  _warn_prf(average, modifier, f\"{metric.capitalize()} is\", len(result))\n",
            "/usr/local/lib/python3.10/dist-packages/sklearn/metrics/_classification.py:1565: UndefinedMetricWarning: Recall is ill-defined and being set to 0.0 in labels with no true samples. Use `zero_division` parameter to control this behavior.\n",
            "  _warn_prf(average, modifier, f\"{metric.capitalize()} is\", len(result))\n",
            "/usr/local/lib/python3.10/dist-packages/sklearn/metrics/_classification.py:1565: UndefinedMetricWarning: Precision is ill-defined and being set to 0.0 in labels with no predicted samples. Use `zero_division` parameter to control this behavior.\n",
            "  _warn_prf(average, modifier, f\"{metric.capitalize()} is\", len(result))\n",
            "/usr/local/lib/python3.10/dist-packages/sklearn/metrics/_classification.py:1565: UndefinedMetricWarning: Recall is ill-defined and being set to 0.0 in labels with no true samples. Use `zero_division` parameter to control this behavior.\n",
            "  _warn_prf(average, modifier, f\"{metric.capitalize()} is\", len(result))\n"
          ]
        },
        {
          "output_type": "execute_result",
          "data": {
            "text/plain": [
              "<IPython.core.display.Markdown object>"
            ],
            "text/markdown": "              precision    recall  f1-score   support\n\n\"positive\" \n       0.00      0.00      0.00         0\n    Negative       0.00      0.00      0.00         0\n    negative       0.00      0.00      0.00         1\n     neutral       1.00      1.00      1.00         1\n    positive       1.00      0.50      0.67         2\n\n    accuracy                           0.50         4\n   macro avg       0.40      0.30      0.33         4\nweighted avg       0.75      0.50      0.58         4\n"
          },
          "metadata": {},
          "execution_count": 12
        }
      ]
    },
    {
      "cell_type": "code",
      "source": [
        "# Text Summarization\n",
        "\n",
        "predictable_gen_config = GenerationConfig(temperature=0.1, top_p=0.1)"
      ],
      "metadata": {
        "id": "Ikfw7gPKO_a1",
        "executionInfo": {
          "status": "ok",
          "timestamp": 1736345159842,
          "user_tz": -240,
          "elapsed": 1726,
          "user": {
            "displayName": "",
            "userId": ""
          }
        }
      },
      "id": "Ikfw7gPKO_a1",
      "execution_count": 13,
      "outputs": []
    },
    {
      "cell_type": "code",
      "source": [
        "prompt = \"\"\"\n",
        "Provide a very short summary, no more than three sentences, for the following article:\n",
        "\n",
        "Our quantum computers work by manipulating qubits in an orchestrated fashion that we call quantum algorithms.\n",
        "The challenge is that qubits are so sensitive that even stray light can cause calculation errors — and the problem worsens as quantum computers grow.\n",
        "This has significant consequences, since the best quantum algorithms that we know for running useful applications require the error rates of our qubits to be far lower than we have today.\n",
        "To bridge this gap, we will need quantum error correction.\n",
        "Quantum error correction protects information by encoding it across multiple physical qubits to form a \"logical qubit,\" and is believed to be the only way to produce a large-scale quantum computer with error rates low enough for useful calculations.\n",
        "Instead of computing on the individual qubits themselves, we will then compute on logical qubits. By encoding larger numbers of physical qubits on our quantum processor into one logical qubit, we hope to reduce the error rates to enable useful quantum algorithms.\n",
        "\n",
        "Summary:\n",
        "\n",
        "\"\"\"\n",
        "\n",
        "response = model.generate_content(\n",
        "    prompt, generation_config=predictable_gen_config\n",
        ")\n",
        "print(response.text)"
      ],
      "metadata": {
        "colab": {
          "base_uri": "https://localhost:8080/"
        },
        "id": "4Z5-_ZP2O_tw",
        "executionInfo": {
          "status": "ok",
          "timestamp": 1736345161711,
          "user_tz": -240,
          "elapsed": 948,
          "user": {
            "displayName": "",
            "userId": ""
          }
        },
        "outputId": "61e2be3f-88b6-40bf-be56-8c486ed36937"
      },
      "id": "4Z5-_ZP2O_tw",
      "execution_count": 14,
      "outputs": [
        {
          "output_type": "stream",
          "name": "stdout",
          "text": [
            "## Summary:\n",
            "\n",
            "Quantum computers are sensitive to errors, which limits their ability to run useful algorithms. Quantum error correction aims to solve this by encoding information across multiple qubits, creating \"logical qubits\" with lower error rates. This will enable the development of large-scale quantum computers capable of performing complex calculations. \n",
            "\n"
          ]
        }
      ]
    },
    {
      "cell_type": "code",
      "source": [
        "prompt = \"\"\"\n",
        "Provide a very short summary in four bullet points for the following article:\n",
        "\n",
        "Our quantum computers work by manipulating qubits in an orchestrated fashion that we call quantum algorithms.\n",
        "The challenge is that qubits are so sensitive that even stray light can cause calculation errors — and the problem worsens as quantum computers grow.\n",
        "This has significant consequences, since the best quantum algorithms that we know for running useful applications require the error rates of our qubits to be far lower than we have today.\n",
        "To bridge this gap, we will need quantum error correction.\n",
        "Quantum error correction protects information by encoding it across multiple physical qubits to form a \"logical qubit,\" and is believed to be the only way to produce a large-scale quantum computer with error rates low enough for useful calculations.\n",
        "Instead of computing on the individual qubits themselves, we will then compute on logical qubits. By encoding larger numbers of physical qubits on our quantum processor into one logical qubit, we hope to reduce the error rates to enable useful quantum algorithms.\n",
        "\n",
        "Bullet points:\n",
        "\n",
        "\"\"\"\n",
        "\n",
        "response = model.generate_content(\n",
        "    contents=prompt, generation_config=predictable_gen_config\n",
        ")\n",
        "Markdown(response.text)"
      ],
      "metadata": {
        "colab": {
          "base_uri": "https://localhost:8080/",
          "height": 159
        },
        "id": "QfA0tAOVO_xC",
        "executionInfo": {
          "status": "ok",
          "timestamp": 1736345190795,
          "user_tz": -240,
          "elapsed": 2032,
          "user": {
            "displayName": "",
            "userId": ""
          }
        },
        "outputId": "295fd9a5-cc1b-43f7-eccc-30192d48b1b6"
      },
      "id": "QfA0tAOVO_xC",
      "execution_count": 15,
      "outputs": [
        {
          "output_type": "execute_result",
          "data": {
            "text/plain": [
              "<IPython.core.display.Markdown object>"
            ],
            "text/markdown": "## Summary in four bullet points:\n\n* **Quantum computers use qubits, which are sensitive to errors.** Even slight disturbances can cause calculation mistakes.\n* **Current error rates are too high for useful applications.** The best algorithms require much lower error rates than we have now.\n* **Quantum error correction is the solution.** It encodes information across multiple qubits to create a \"logical qubit\" with lower error rates.\n* **Logical qubits will enable useful quantum algorithms.** By encoding physical qubits into logical qubits, we can achieve the low error rates needed for practical applications. \n"
          },
          "metadata": {},
          "execution_count": 15
        }
      ]
    },
    {
      "cell_type": "code",
      "source": [
        "prompt = \"\"\"\n",
        "Please generate a summary of the following conversation and at the end summarize the to-do's for the support Agent:\n",
        "\n",
        "Customer: Hi, I'm Larry, and I received the wrong item.\n",
        "\n",
        "Support Agent: Hi, Larry. How would you like to see this resolved?\n",
        "\n",
        "Customer: That's alright. I want to return the item and get a refund, please.\n",
        "\n",
        "Support Agent: Of course. I can process the refund for you now. Can I have your order number, please?\n",
        "\n",
        "Customer: It's [ORDER NUMBER].\n",
        "\n",
        "Support Agent: Thank you. I've processed the refund, and you will receive your money back within 14 days.\n",
        "\n",
        "Customer: Thank you very much.\n",
        "\n",
        "Support Agent: You're welcome, Larry. Have a good day!\n",
        "\n",
        "Summary:\n",
        "\"\"\"\n",
        "\n",
        "response = model.generate_content(\n",
        "    contents=prompt, generation_config=predictable_gen_config\n",
        ")\n",
        "Markdown(response.text)"
      ],
      "metadata": {
        "colab": {
          "base_uri": "https://localhost:8080/",
          "height": 209
        },
        "id": "USDBPrXTO_5K",
        "executionInfo": {
          "status": "ok",
          "timestamp": 1736345212182,
          "user_tz": -240,
          "elapsed": 1835,
          "user": {
            "displayName": "",
            "userId": ""
          }
        },
        "outputId": "81314d3c-a93d-43e3-af59-2ef194b360d0"
      },
      "id": "USDBPrXTO_5K",
      "execution_count": 16,
      "outputs": [
        {
          "output_type": "execute_result",
          "data": {
            "text/plain": [
              "<IPython.core.display.Markdown object>"
            ],
            "text/markdown": "## Summary of Conversation:\n\n* **Customer:** Larry received the wrong item.\n* **Desired Resolution:** Larry wants to return the item and receive a refund.\n* **Resolution:** The Support Agent processed the refund for the order.\n* **Refund Timeline:** Larry will receive the refund within 14 days.\n\n## To-Dos for Support Agent:\n\n* **None:** The Support Agent has already completed the necessary actions. \n"
          },
          "metadata": {},
          "execution_count": 16
        }
      ]
    },
    {
      "cell_type": "code",
      "source": [
        "# Text extraction\n",
        "\n",
        "order = \"We need eight grilled cheese sandwiches. Two with swiss cheese, three with muenster, three with cheddar.\"\n",
        "\n",
        "prompt = \"\"\"\n",
        "    Break the customer's order into individual items with keys for the following fields:\n",
        "    - item_name\n",
        "    - cheese_selection\n",
        "\n",
        "    Order:\n",
        "    {order_field}\n",
        "\"\"\".format(order_field=order)\n",
        "\n",
        "response = model.generate_content(\n",
        "    contents=prompt, generation_config=predictable_gen_config\n",
        ")\n",
        "print(response.text)"
      ],
      "metadata": {
        "colab": {
          "base_uri": "https://localhost:8080/"
        },
        "id": "SjnqBZ4RPdv9",
        "executionInfo": {
          "status": "ok",
          "timestamp": 1736345264808,
          "user_tz": -240,
          "elapsed": 3271,
          "user": {
            "displayName": "",
            "userId": ""
          }
        },
        "outputId": "cbc000a1-032e-4d0b-8f0a-ea1dd262c6ca"
      },
      "id": "SjnqBZ4RPdv9",
      "execution_count": 17,
      "outputs": [
        {
          "output_type": "stream",
          "name": "stdout",
          "text": [
            "```json\n",
            "[\n",
            "  {\n",
            "    \"item_name\": \"Grilled Cheese Sandwich\",\n",
            "    \"cheese_selection\": \"Swiss\"\n",
            "  },\n",
            "  {\n",
            "    \"item_name\": \"Grilled Cheese Sandwich\",\n",
            "    \"cheese_selection\": \"Swiss\"\n",
            "  },\n",
            "  {\n",
            "    \"item_name\": \"Grilled Cheese Sandwich\",\n",
            "    \"cheese_selection\": \"Muenster\"\n",
            "  },\n",
            "  {\n",
            "    \"item_name\": \"Grilled Cheese Sandwich\",\n",
            "    \"cheese_selection\": \"Muenster\"\n",
            "  },\n",
            "  {\n",
            "    \"item_name\": \"Grilled Cheese Sandwich\",\n",
            "    \"cheese_selection\": \"Muenster\"\n",
            "  },\n",
            "  {\n",
            "    \"item_name\": \"Grilled Cheese Sandwich\",\n",
            "    \"cheese_selection\": \"Cheddar\"\n",
            "  },\n",
            "  {\n",
            "    \"item_name\": \"Grilled Cheese Sandwich\",\n",
            "    \"cheese_selection\": \"Cheddar\"\n",
            "  },\n",
            "  {\n",
            "    \"item_name\": \"Grilled Cheese Sandwich\",\n",
            "    \"cheese_selection\": \"Cheddar\"\n",
            "  }\n",
            "]\n",
            "```\n"
          ]
        }
      ]
    },
    {
      "cell_type": "code",
      "source": [
        "prompt = \"\"\"Q: Who was President of the United States in 1955?\n",
        "              Which party did he belong to?\n",
        "            A:\n",
        "        \"\"\"\n",
        "response = model.generate_content(\n",
        "    contents=prompt, generation_config=predictable_gen_config\n",
        ")\n",
        "print(response.text)"
      ],
      "metadata": {
        "colab": {
          "base_uri": "https://localhost:8080/"
        },
        "id": "DopJXOywPeBl",
        "executionInfo": {
          "status": "ok",
          "timestamp": 1736345307799,
          "user_tz": -240,
          "elapsed": 882,
          "user": {
            "displayName": "",
            "userId": ""
          }
        },
        "outputId": "3c24ffe1-80df-4ee5-8d0f-637da2353097"
      },
      "id": "DopJXOywPeBl",
      "execution_count": 18,
      "outputs": [
        {
          "output_type": "stream",
          "name": "stdout",
          "text": [
            "Dwight D. Eisenhower was President of the United States in 1955. He belonged to the Republican Party.\n"
          ]
        }
      ]
    },
    {
      "cell_type": "code",
      "source": [
        "context = \"\"\"\n",
        "Storage and content policy \\n\n",
        "How durable is my data in Cloud Storage? \\n\n",
        "Cloud Storage is designed for 99.999999999% (11 9's) annual durability, which is appropriate for even primary storage and\n",
        "business-critical applications. This high durability level is achieved through erasure coding that stores data pieces redundantly\n",
        "across multiple devices located in multiple availability zones.\n",
        "Objects written to Cloud Storage must be redundantly stored in at least two different availability zones before the\n",
        "write is acknowledged as successful. Checksums are stored and regularly revalidated to proactively verify that the data\n",
        "integrity of all data at rest as well as to detect corruption of data in transit. If required, corrections are automatically\n",
        "made using redundant data. Customers can optionally enable object versioning to add protection against accidental deletion.\n",
        "\"\"\"\n",
        "\n",
        "question = \"How is high availability achieved?\"\n",
        "\n",
        "prompt = f\"\"\"Answer the question given in the contex below:\n",
        "Context: {context}?\\n\n",
        "Question: {question} \\n\n",
        "Answer:\n",
        "\"\"\"\n",
        "\n",
        "print(\"[Prompt]\")\n",
        "print(prompt)\n",
        "\n",
        "print(\"[Response]\")\n",
        "response = model.generate_content(contents=prompt, generation_config=predictable_gen_config)\n",
        "print(response.text)"
      ],
      "metadata": {
        "colab": {
          "base_uri": "https://localhost:8080/"
        },
        "id": "31k9jTDwPtYY",
        "executionInfo": {
          "status": "ok",
          "timestamp": 1736345329950,
          "user_tz": -240,
          "elapsed": 4175,
          "user": {
            "displayName": "",
            "userId": ""
          }
        },
        "outputId": "ac80e7ee-4273-4d8e-f05e-366c5f7b76b9"
      },
      "id": "31k9jTDwPtYY",
      "execution_count": 19,
      "outputs": [
        {
          "output_type": "stream",
          "name": "stdout",
          "text": [
            "[Prompt]\n",
            "Answer the question given in the contex below:\n",
            "Context: \n",
            "Storage and content policy \n",
            "\n",
            "How durable is my data in Cloud Storage? \n",
            "\n",
            "Cloud Storage is designed for 99.999999999% (11 9's) annual durability, which is appropriate for even primary storage and\n",
            "business-critical applications. This high durability level is achieved through erasure coding that stores data pieces redundantly\n",
            "across multiple devices located in multiple availability zones.\n",
            "Objects written to Cloud Storage must be redundantly stored in at least two different availability zones before the\n",
            "write is acknowledged as successful. Checksums are stored and regularly revalidated to proactively verify that the data\n",
            "integrity of all data at rest as well as to detect corruption of data in transit. If required, corrections are automatically\n",
            "made using redundant data. Customers can optionally enable object versioning to add protection against accidental deletion.\n",
            "?\n",
            "\n",
            "Question: How is high availability achieved? \n",
            "\n",
            "Answer:\n",
            "\n",
            "[Response]\n",
            "## High Availability in Cloud Storage\n",
            "\n",
            "Cloud Storage achieves high availability through a combination of redundancy and proactive data integrity checks:\n",
            "\n",
            "**Redundancy:**\n",
            "\n",
            "* **Erasure coding:** Data is split into pieces and stored redundantly across multiple devices in different availability zones. This ensures that even if some devices fail, the data remains accessible.\n",
            "* **Object replication:** Objects are written to at least two different availability zones before the write is acknowledged as successful. This further protects against data loss in case of a zone outage.\n",
            "\n",
            "**Data Integrity Checks:**\n",
            "\n",
            "* **Checksums:** Checksums are stored for each object and regularly revalidated to detect any data corruption.\n",
            "* **Automatic correction:** If corruption is detected, Cloud Storage automatically repairs the data using the redundant copies.\n",
            "\n",
            "**Additional Features:**\n",
            "\n",
            "* **Object versioning:** This allows you to restore previous versions of objects in case of accidental deletion or modification.\n",
            "\n",
            "**Benefits of High Availability:**\n",
            "\n",
            "* **Reduced risk of data loss:** The redundant storage and automatic data repair mechanisms minimize the risk of data loss due to hardware failures or other disruptions.\n",
            "* **Improved uptime and accessibility:** The geographically distributed storage and proactive data integrity checks ensure that your data is always available, even in the event of localized outages.\n",
            "* **Increased reliability for business-critical applications:** The high availability of Cloud Storage makes it suitable for storing critical data that needs to be accessible at all times. \n",
            "\n"
          ]
        }
      ]
    }
  ],
  "metadata": {
    "kernelspec": {
      "display_name": "Python 3",
      "language": "python",
      "name": "python3"
    },
    "language_info": {
      "codemirror_mode": {
        "name": "ipython",
        "version": 3
      },
      "file_extension": ".py",
      "mimetype": "text/x-python",
      "name": "python",
      "nbconvert_exporter": "python",
      "pygments_lexer": "ipython3",
      "version": "3.10.10"
    },
    "colab": {
      "provenance": [],
      "name": "gen-ai-use-cases.ipynb"
    }
  },
  "nbformat": 4,
  "nbformat_minor": 5
}