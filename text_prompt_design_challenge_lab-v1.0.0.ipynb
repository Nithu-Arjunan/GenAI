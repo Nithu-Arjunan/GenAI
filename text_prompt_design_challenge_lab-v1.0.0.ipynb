{
 "cells": [
  {
   "cell_type": "markdown",
   "metadata": {
    "id": "VEqbX8OhE8y9"
   },
   "source": [
    "# Text Prompt Design: Challenge Lab\n",
    "\n",
    "## Overview\n",
    "\n",
    "This challenge lab is designed to test your knowledge of calling Gemini and utilizing a few fundamental text prompt design techniques.\n",
    "\n",
    "Two featured guides on prompting from the Google Cloud documentation are:\n",
    "\n",
    "1. [Overview of prompting strategies](https://cloud.google.com/vertex-ai/generative-ai/docs/learn/prompts/prompt-design-strategies) from the Generative AI on Vertex AI documentation.\n",
    "\n",
    "2. [Prompt design strategies](https://ai.google.dev/gemini-api/docs/prompting-strategies) from the Gemini API documentation.\n",
    "\n",
    "Both contain good tips. You are encouraged to **bookmark them**.\n",
    "\n",
    "## Objective\n",
    "You will demonstrate your ability to:\n",
    "\n",
    "- Initialize Vertex AI in your environment\n",
    "- Load a generative model\n",
    "- Guide model output with a persona\n",
    "- Extract information to a schema\n",
    "- Stay on topic with fallback responses\n",
    "- Use examples to influence the model's response\n",
    "\n",
    "Some of the following Python notebook cells have missing or incomplete code sections and tasks that need to be completed, indicated by the code comments starting with `# TODO`. Your challenge is to complete each cell, run it to test for correctness, and then move on. When all the cells are working, you have completed the challenge.\n",
    "\n",
    "**Note:** If you need help, [this notebook demonstrates getting started using Gemini in Python](https://github.com/GoogleCloudPlatform/generative-ai/blob/main/gemini/getting-started/intro_gemini_python.ipynb)."
   ]
  },
  {
   "cell_type": "markdown",
   "metadata": {
    "id": "N5afkyDMSBW5"
   },
   "source": [
    "## Task 1. Install, import & initialize the Vertex AI SDK and a generative model\n",
    "\n",
    "1. Install the Vertex AI SDK."
   ]
  },
  {
   "cell_type": "code",
   "execution_count": 1,
   "metadata": {
    "id": "kc4WxYmLSBW5",
    "tags": []
   },
   "outputs": [
    {
     "name": "stdout",
     "output_type": "stream",
     "text": [
      "Requirement already satisfied: google-cloud-aiplatform in /opt/conda/lib/python3.10/site-packages (1.72.0)\n",
      "Requirement already satisfied: google-api-core!=2.0.*,!=2.1.*,!=2.2.*,!=2.3.*,!=2.4.*,!=2.5.*,!=2.6.*,!=2.7.*,<3.0.0dev,>=1.34.1 in /opt/conda/lib/python3.10/site-packages (from google-api-core[grpc]!=2.0.*,!=2.1.*,!=2.2.*,!=2.3.*,!=2.4.*,!=2.5.*,!=2.6.*,!=2.7.*,<3.0.0dev,>=1.34.1->google-cloud-aiplatform) (1.34.1)\n",
      "Requirement already satisfied: google-auth<3.0.0dev,>=2.14.1 in /opt/conda/lib/python3.10/site-packages (from google-cloud-aiplatform) (2.36.0)\n",
      "Requirement already satisfied: proto-plus<2.0.0dev,>=1.22.3 in /opt/conda/lib/python3.10/site-packages (from google-cloud-aiplatform) (1.25.0)\n",
      "Requirement already satisfied: protobuf!=4.21.0,!=4.21.1,!=4.21.2,!=4.21.3,!=4.21.4,!=4.21.5,<6.0.0dev,>=3.20.2 in /opt/conda/lib/python3.10/site-packages (from google-cloud-aiplatform) (3.20.3)\n",
      "Requirement already satisfied: packaging>=14.3 in /opt/conda/lib/python3.10/site-packages (from google-cloud-aiplatform) (24.1)\n",
      "Requirement already satisfied: google-cloud-storage<3.0.0dev,>=1.32.0 in /opt/conda/lib/python3.10/site-packages (from google-cloud-aiplatform) (2.14.0)\n",
      "Requirement already satisfied: google-cloud-bigquery!=3.20.0,<4.0.0dev,>=1.15.0 in /opt/conda/lib/python3.10/site-packages (from google-cloud-aiplatform) (3.25.0)\n",
      "Requirement already satisfied: google-cloud-resource-manager<3.0.0dev,>=1.3.3 in /opt/conda/lib/python3.10/site-packages (from google-cloud-aiplatform) (1.13.1)\n",
      "Requirement already satisfied: shapely<3.0.0dev in /opt/conda/lib/python3.10/site-packages (from google-cloud-aiplatform) (2.0.6)\n",
      "Requirement already satisfied: pydantic<3 in /opt/conda/lib/python3.10/site-packages (from google-cloud-aiplatform) (2.9.2)\n",
      "Requirement already satisfied: docstring-parser<1 in /opt/conda/lib/python3.10/site-packages (from google-cloud-aiplatform) (0.16)\n",
      "Requirement already satisfied: googleapis-common-protos<2.0dev,>=1.56.2 in /opt/conda/lib/python3.10/site-packages (from google-api-core!=2.0.*,!=2.1.*,!=2.2.*,!=2.3.*,!=2.4.*,!=2.5.*,!=2.6.*,!=2.7.*,<3.0.0dev,>=1.34.1->google-api-core[grpc]!=2.0.*,!=2.1.*,!=2.2.*,!=2.3.*,!=2.4.*,!=2.5.*,!=2.6.*,!=2.7.*,<3.0.0dev,>=1.34.1->google-cloud-aiplatform) (1.66.0)\n",
      "Requirement already satisfied: requests<3.0.0dev,>=2.18.0 in /opt/conda/lib/python3.10/site-packages (from google-api-core!=2.0.*,!=2.1.*,!=2.2.*,!=2.3.*,!=2.4.*,!=2.5.*,!=2.6.*,!=2.7.*,<3.0.0dev,>=1.34.1->google-api-core[grpc]!=2.0.*,!=2.1.*,!=2.2.*,!=2.3.*,!=2.4.*,!=2.5.*,!=2.6.*,!=2.7.*,<3.0.0dev,>=1.34.1->google-cloud-aiplatform) (2.32.3)\n",
      "Requirement already satisfied: grpcio<2.0dev,>=1.33.2 in /opt/conda/lib/python3.10/site-packages (from google-api-core[grpc]!=2.0.*,!=2.1.*,!=2.2.*,!=2.3.*,!=2.4.*,!=2.5.*,!=2.6.*,!=2.7.*,<3.0.0dev,>=1.34.1->google-cloud-aiplatform) (1.68.0)\n",
      "Requirement already satisfied: grpcio-status<2.0dev,>=1.33.2 in /opt/conda/lib/python3.10/site-packages (from google-api-core[grpc]!=2.0.*,!=2.1.*,!=2.2.*,!=2.3.*,!=2.4.*,!=2.5.*,!=2.6.*,!=2.7.*,<3.0.0dev,>=1.34.1->google-cloud-aiplatform) (1.48.2)\n",
      "Requirement already satisfied: cachetools<6.0,>=2.0.0 in /opt/conda/lib/python3.10/site-packages (from google-auth<3.0.0dev,>=2.14.1->google-cloud-aiplatform) (5.5.0)\n",
      "Requirement already satisfied: pyasn1-modules>=0.2.1 in /opt/conda/lib/python3.10/site-packages (from google-auth<3.0.0dev,>=2.14.1->google-cloud-aiplatform) (0.4.1)\n",
      "Requirement already satisfied: rsa<5,>=3.1.4 in /opt/conda/lib/python3.10/site-packages (from google-auth<3.0.0dev,>=2.14.1->google-cloud-aiplatform) (4.9)\n",
      "Requirement already satisfied: google-cloud-core<3.0.0dev,>=1.6.0 in /opt/conda/lib/python3.10/site-packages (from google-cloud-bigquery!=3.20.0,<4.0.0dev,>=1.15.0->google-cloud-aiplatform) (2.4.1)\n",
      "Requirement already satisfied: google-resumable-media<3.0dev,>=0.6.0 in /opt/conda/lib/python3.10/site-packages (from google-cloud-bigquery!=3.20.0,<4.0.0dev,>=1.15.0->google-cloud-aiplatform) (2.7.2)\n",
      "Requirement already satisfied: python-dateutil<3.0dev,>=2.7.2 in /opt/conda/lib/python3.10/site-packages (from google-cloud-bigquery!=3.20.0,<4.0.0dev,>=1.15.0->google-cloud-aiplatform) (2.9.0.post0)\n",
      "Requirement already satisfied: grpc-google-iam-v1<1.0.0dev,>=0.12.4 in /opt/conda/lib/python3.10/site-packages (from google-cloud-resource-manager<3.0.0dev,>=1.3.3->google-cloud-aiplatform) (0.13.1)\n",
      "Requirement already satisfied: google-crc32c<2.0dev,>=1.0 in /opt/conda/lib/python3.10/site-packages (from google-cloud-storage<3.0.0dev,>=1.32.0->google-cloud-aiplatform) (1.6.0)\n",
      "Requirement already satisfied: annotated-types>=0.6.0 in /opt/conda/lib/python3.10/site-packages (from pydantic<3->google-cloud-aiplatform) (0.7.0)\n",
      "Requirement already satisfied: pydantic-core==2.23.4 in /opt/conda/lib/python3.10/site-packages (from pydantic<3->google-cloud-aiplatform) (2.23.4)\n",
      "Requirement already satisfied: typing-extensions>=4.6.1 in /opt/conda/lib/python3.10/site-packages (from pydantic<3->google-cloud-aiplatform) (4.12.2)\n",
      "Requirement already satisfied: numpy<3,>=1.14 in /opt/conda/lib/python3.10/site-packages (from shapely<3.0.0dev->google-cloud-aiplatform) (1.26.4)\n",
      "Requirement already satisfied: pyasn1<0.7.0,>=0.4.6 in /opt/conda/lib/python3.10/site-packages (from pyasn1-modules>=0.2.1->google-auth<3.0.0dev,>=2.14.1->google-cloud-aiplatform) (0.6.1)\n",
      "Requirement already satisfied: six>=1.5 in /opt/conda/lib/python3.10/site-packages (from python-dateutil<3.0dev,>=2.7.2->google-cloud-bigquery!=3.20.0,<4.0.0dev,>=1.15.0->google-cloud-aiplatform) (1.16.0)\n",
      "Requirement already satisfied: charset-normalizer<4,>=2 in /opt/conda/lib/python3.10/site-packages (from requests<3.0.0dev,>=2.18.0->google-api-core!=2.0.*,!=2.1.*,!=2.2.*,!=2.3.*,!=2.4.*,!=2.5.*,!=2.6.*,!=2.7.*,<3.0.0dev,>=1.34.1->google-api-core[grpc]!=2.0.*,!=2.1.*,!=2.2.*,!=2.3.*,!=2.4.*,!=2.5.*,!=2.6.*,!=2.7.*,<3.0.0dev,>=1.34.1->google-cloud-aiplatform) (3.4.0)\n",
      "Requirement already satisfied: idna<4,>=2.5 in /opt/conda/lib/python3.10/site-packages (from requests<3.0.0dev,>=2.18.0->google-api-core!=2.0.*,!=2.1.*,!=2.2.*,!=2.3.*,!=2.4.*,!=2.5.*,!=2.6.*,!=2.7.*,<3.0.0dev,>=1.34.1->google-api-core[grpc]!=2.0.*,!=2.1.*,!=2.2.*,!=2.3.*,!=2.4.*,!=2.5.*,!=2.6.*,!=2.7.*,<3.0.0dev,>=1.34.1->google-cloud-aiplatform) (3.10)\n",
      "Requirement already satisfied: urllib3<3,>=1.21.1 in /opt/conda/lib/python3.10/site-packages (from requests<3.0.0dev,>=2.18.0->google-api-core!=2.0.*,!=2.1.*,!=2.2.*,!=2.3.*,!=2.4.*,!=2.5.*,!=2.6.*,!=2.7.*,<3.0.0dev,>=1.34.1->google-api-core[grpc]!=2.0.*,!=2.1.*,!=2.2.*,!=2.3.*,!=2.4.*,!=2.5.*,!=2.6.*,!=2.7.*,<3.0.0dev,>=1.34.1->google-cloud-aiplatform) (1.26.20)\n",
      "Requirement already satisfied: certifi>=2017.4.17 in /opt/conda/lib/python3.10/site-packages (from requests<3.0.0dev,>=2.18.0->google-api-core!=2.0.*,!=2.1.*,!=2.2.*,!=2.3.*,!=2.4.*,!=2.5.*,!=2.6.*,!=2.7.*,<3.0.0dev,>=1.34.1->google-api-core[grpc]!=2.0.*,!=2.1.*,!=2.2.*,!=2.3.*,!=2.4.*,!=2.5.*,!=2.6.*,!=2.7.*,<3.0.0dev,>=1.34.1->google-cloud-aiplatform) (2024.8.30)\n"
     ]
    }
   ],
   "source": [
    "# TODO: Complete the following pip command\n",
    "!pip install google-cloud-aiplatform"
   ]
  },
  {
   "cell_type": "markdown",
   "metadata": {
    "id": "BuQwwRiniVFG"
   },
   "source": [
    "2. Restart your notebook kernel.\n",
    "3. Import the following:\n",
    "- the Vertex AI SDK\n",
    "- the class to instantiate a generative model from the Vertex AI generative models module"
   ]
  },
  {
   "cell_type": "code",
   "execution_count": 1,
   "metadata": {
    "id": "kpdnPWaTK27C",
    "tags": []
   },
   "outputs": [],
   "source": [
    "# TODO: Complete the imports\n",
    "import vertexai\n",
    "from vertexai.generative_models import GenerativeModel, GenerationConfig\n"
   ]
  },
  {
   "cell_type": "markdown",
   "metadata": {
    "id": "6Fom0ZkMSBW6"
   },
   "source": [
    "4. Initialize Vertex AI with your project ID and a location (you can use like `us-central1`)."
   ]
  },
  {
   "cell_type": "code",
   "execution_count": 9,
   "metadata": {
    "id": "LCaCx6PLSBW6",
    "tags": []
   },
   "outputs": [],
   "source": [
    "# TODO: Insert the required steps here\n",
    "\n",
    "PROJECT_ID = \"qwiklabs-gcp-01-83802f1e84d6\"\n",
    "LOCATION = \"us-central1\"\n",
    "import vertexai\n",
    "vertexai.init(project=PROJECT_ID, location=LOCATION)"
   ]
  },
  {
   "cell_type": "markdown",
   "metadata": {
    "id": "O8DUcgKJK27C"
   },
   "source": [
    "5. Instantiate a generative model and save it to the `generative_model` variable. For this notebook, use `gemini-pro` as your model version. When instantiating the model, pass a `generation_config` parameter with the temperature set to 0."
   ]
  },
  {
   "cell_type": "code",
   "execution_count": 11,
   "metadata": {
    "id": "2998506fe6d1",
    "tags": []
   },
   "outputs": [],
   "source": [
    "# TODO: Insantiate a \"gemini-pro\" model with a configured temperature of 0.\n",
    "generative_model = GenerativeModel(\"gemini-pro\")"
   ]
  },
  {
   "cell_type": "markdown",
   "metadata": {
    "id": "h3YN2rf1K27C"
   },
   "source": [
    "6. Complete the TODO's in this function, which you will use for the rest of the lab:"
   ]
  },
  {
   "cell_type": "code",
   "execution_count": 12,
   "metadata": {
    "id": "joXl2V2JK27D",
    "tags": []
   },
   "outputs": [],
   "source": [
    "def print_response(prompt):\n",
    "\n",
    "    # TODO: Complete this line to generate a response to the prompt:\n",
    "    \n",
    "    #response = generative_model.generate_content(prompt\n",
    "    response = generative_model.generate_content(prompt)\n",
    "    # TODO: Complete this line to print only the text of the model's response,\n",
    "    # not the additional response metadata.\n",
    "    print(response.text)"
   ]
  },
  {
   "cell_type": "markdown",
   "metadata": {
    "id": "kEAJ0ipmbndQ"
   },
   "source": [
    "## Task 2. Personas\n",
    "\n",
    "1. Run the following cell to see the default response to this prompt.\n",
    "\n",
    "2. Then tweak the prompt by asking the model to take on the persona of an **energetic, inspiring personal trainer** who can get users **excited to work out their leg muscles**. Note the difference in vocabulary and tone."
   ]
  },
  {
   "cell_type": "code",
   "execution_count": 13,
   "metadata": {
    "id": "UEo0QhauK27D",
    "tags": []
   },
   "outputs": [
    {
     "name": "stdout",
     "output_type": "stream",
     "text": [
      "## Leg Exercises for All Levels\n",
      "\n",
      "Whether you're a beginner or a seasoned gym-goer, there are plenty of leg exercises to fit your needs. Here are some options to consider:\n",
      "\n",
      "**Bodyweight Exercises:**\n",
      "\n",
      "* **Squats:** A classic and effective leg exercise that works your quads, glutes, and hamstrings. You can do them with your body weight or add weights for an extra challenge.\n",
      "* **Lunges:** This exercise targets your quads, glutes, and hamstrings, as well as your balance. You can do them forward, backward, or sideways.\n",
      "* **Step-ups:** This is a great exercise for building strength and power in your legs. You can use a step, bench, or any elevated surface.\n",
      "* **Calf raises:** This exercise targets your calf muscles. You can do them on your toes, heels, or even with a barbell for additional weight.\n",
      "\n",
      "**Weighted Exercises:**\n",
      "\n",
      "* **Barbell squats:** This is a weighted version of the classic squat, and it's a great way to build muscle and strength in your legs.\n",
      "* **Leg press:** This machine exercise allows you to target specific muscle groups in your legs, such as your quads or hamstrings.\n",
      "* **Leg extensions:** This exercise isolates your quads and helps to build muscle definition.\n",
      "* **Hamstring curls:** This exercise targets your hamstrings and helps to improve your flexibility.\n",
      "\n",
      "**Other Exercises:**\n",
      "\n",
      "* **Jumping jacks:** This is a great cardio exercise that also works your legs.\n",
      "* **Burpees:** This full-body exercise is a challenging way to get your heart rate up and work your legs.\n",
      "* **Cycling:** This is a low-impact exercise that is easy on your joints and a great way to strengthen your legs.\n",
      "* **Swimming:** This is another low-impact exercise that is great for your legs and your overall fitness.\n",
      "\n",
      "**Important Tips:**\n",
      "\n",
      "* **Use proper form:** It's important to use proper form when doing any exercise to avoid injury. Watch videos or ask a trainer for guidance.\n",
      "* **Start light and gradually increase the weight:** If you're new to weightlifting, start with a lighter weight and gradually increase it as you get stronger.\n",
      "* **Listen to your body:** Don't push yourself too hard, especially when you're first starting. If you feel pain, stop and rest.\n",
      "* **Warm up before you start and cool down afterwards:** This will help to prevent injury.\n",
      "\n",
      "**Here are some online resources that you might find helpful:**\n",
      "\n",
      "* **The American Council on Exercise:** https://www.acefitness.org/education-and-resources/lifestyle/exercise-library/\n",
      "* **The National Strength and Conditioning Association:** https://www.nsca.com/education/articles/\n",
      "* **Men's Health:** https://www.menshealth.com/fitness/g35586196/leg-workout-exercises/\n",
      "* **Women's Health:** https://www.womenshealthmag.com/fitness/a28548503/leg-workout-exercises/\n",
      "\n",
      "I hope this helps! Remember to consult with a doctor or physical therapist before starting any new exercise program.\n"
     ]
    }
   ],
   "source": [
    "# TODO: Improve the personality of the response by assigning the suggested persona.\n",
    "prompt = \"What are some good leg exercises?\"\n",
    "\n",
    "print_response(prompt)"
   ]
  },
  {
   "cell_type": "code",
   "execution_count": 14,
   "metadata": {
    "tags": []
   },
   "outputs": [
    {
     "name": "stdout",
     "output_type": "stream",
     "text": [
      "## Leg Up! Let's Get Those Legs Pumped! \n",
      "\n",
      "Alright champ, ready to unleash the power in your legs? I'm your trainer, and together, we're gonna sculpt those stems into pillars of strength and endurance. Let's get started!\n",
      "\n",
      "**Warm-up:**\n",
      "\n",
      "* **5 minutes of light cardio:** Get your blood flowing and joints lubricated with some brisk walking, jogging, or jumping jacks.\n",
      "* **5 minutes of dynamic stretches:** Focus on movements that mimic your workout, like lunges with twists, high knees, and leg swings.\n",
      "\n",
      "**Workout:**\n",
      "\n",
      "* **Squats:** The king of leg exercises! Start with bodyweight squats, then progress to weighted squats as you get stronger. Aim for 3 sets of 10-12 repetitions.\n",
      "* **Lunges:** Work your quads and glutes with lunges. Try forward lunges, reverse lunges, and side lunges. Do 3 sets of 10-12 repetitions per leg.\n",
      "* **Calf raises:** Don't forget those calves! Stand on the balls of your feet and lift your heels, hold for a second, then slowly lower back down. Do 3 sets of 15-20 repetitions.\n",
      "\n",
      "**Cool-down:**\n",
      "\n",
      "* **5 minutes of static stretches:** Hold each stretch for 30 seconds, focusing on major muscle groups like your quads, hamstrings, and calves.\n",
      "\n",
      "**Remember:** \n",
      "\n",
      "* **Proper form is key!** Focus on maintaining good posture and keeping your core engaged throughout the exercise. \n",
      "* **Listen to your body!** Don't push yourself too hard, especially when starting. \n",
      "* **Consistency is key!** Aim for 2-3 leg workouts per week for optimal results.\n",
      "\n",
      "**Bonus:** \n",
      "\n",
      "* **Incorporate plyometrics:** Add explosive exercises like box jumps and jump squats to build power.\n",
      "* **Challenge yourself:** Increase the weight, reps, or sets as you get stronger.\n",
      "* **Stay hydrated:** Drink plenty of water before, during, and after your workout.\n",
      "\n",
      "Now get out there and crush those leg workouts! Remember, I'm here to support you every step of the way. Let's turn those legs into unstoppable machines!\n"
     ]
    }
   ],
   "source": [
    "# Assign a persona or role. start a conversation\n",
    "chat = generative_model.start_chat()\n",
    "\n",
    "response = chat.send_message(\n",
    "    \"\"\"\n",
    "    Provide a brief guide to start work out of leg muscles assuming that you are an energetic inspiring personal trainer\n",
    "    \"\"\"\n",
    ")\n",
    "\n",
    "print(response.text)"
   ]
  },
  {
   "cell_type": "markdown",
   "metadata": {
    "id": "ueKZMheeK27D"
   },
   "source": [
    "## Task 3. Be specific + constrain the output format\n",
    "\n",
    "1. Have the model convert the following text of cooking ingredients to a YAML format. Each ingredient should be listed as a dictionary with keys for **ingredient** and **quantity** populated with the correct value given the ingredients in the following recipe:"
   ]
  },
  {
   "cell_type": "code",
   "execution_count": 15,
   "metadata": {
    "id": "qyJASDrsK27D",
    "tags": []
   },
   "outputs": [
    {
     "name": "stdout",
     "output_type": "stream",
     "text": [
      "## Ingredients:\n",
      "\n",
      "```yaml\n",
      "- ingredient: Egg whites\n",
      "  quantity: 9\n",
      "- ingredient: Cream of Tartar\n",
      "  quantity: 3/8 tsp\n",
      "- ingredient: Vinegar\n",
      "  quantity: 1 1/2 tbs\n",
      "- ingredient: Vanilla\n",
      "  quantity: 1 1/2 tsp\n",
      "- ingredient: Sugar\n",
      "  quantity: 3 cups\n",
      "- ingredient: Heavy whipping cream\n",
      "  quantity: 1 quarts\n",
      "- ingredient: Strawberries\n",
      "  quantity: 3 boxes\n",
      "``` \n",
      "\n"
     ]
    }
   ],
   "source": [
    "# TODO: Write instructions to complete the task.\n",
    "instructions = \"\"\"\n",
    "     Extract the ingredients into YAML where each ingredient should be listed as a dictionary with keys for ingredient and \n",
    "     quantity populated with the correct value given the ingredients in the following recipe\"\"\"\n",
    "\n",
    "ingredients = \"\"\"\n",
    "    Ingredients:\n",
    "    * 9 egg whites\n",
    "    * 3/8 tsp Cream of Tartar\n",
    "    * 1 1/2 tbs Vinegar\n",
    "    * 1 1/2 tsp Vanilla\n",
    "    * 3 cups Sugar\n",
    "    * 1 quarts Heavy whipping cream\n",
    "    * 3 boxes Strawberries\n",
    "    \"\"\"\n",
    "\n",
    "prompt = instructions + \"\\n\\n\" + ingredients\n",
    "\n",
    "print_response(prompt)"
   ]
  },
  {
   "cell_type": "markdown",
   "metadata": {
    "id": "6xRk8HTLK27D"
   },
   "source": [
    "## Task 4. Use a fallback response\n",
    "\n",
    "1. Adjust the prompt below to specify that the model should only answer questions related to historical landmarks. If a user askes about something else, the model should respond with the message: `Sorry, I only answer questions about historical landmarks!`\n",
    "\n",
    "2. Adjust your instructions until the model declines to answer the `user_query` below."
   ]
  },
  {
   "cell_type": "code",
   "execution_count": 29,
   "metadata": {
    "id": "6InaQ3OpK27D",
    "tags": []
   },
   "outputs": [
    {
     "name": "stdout",
     "output_type": "stream",
     "text": [
      "Sorry, I only talk about historical landmarks!\n"
     ]
    }
   ],
   "source": [
    "# TODO: Add instructions to prompt a fallback response for off-topic queries.\n",
    "\n",
    "instructions = \"\"\"\n",
    "    You are a history tour guide. Answer the user's question if it is about history. \n",
    "    If anything else, reply with: Sorry, I only talk about historical landmarks!\n",
    "    Question: {user_query}\n",
    "    \n",
    "\"\"\"\n",
    "user_query = \"Why is cricket more famous than football?\"\n",
    "\n",
    "print_response(instructions.format(user_query=user_query))"
   ]
  },
  {
   "cell_type": "markdown",
   "metadata": {
    "id": "gFolKJjNK27D"
   },
   "source": [
    "## Task 5. Make results more specific with examples\n",
    "\n",
    "1. Run the code cell below to see the model's response as-is.\n",
    "\n",
    "2. Imagining you work for a bicycle tour company, modify each of the example outputs below to include a bicycle.\n",
    "\n",
    "3. Re-run the code cell to make sure the model generates a bicycle-themed response. Leave the instructions alone and tweak your examples until you get such a response."
   ]
  },
  {
   "cell_type": "code",
   "execution_count": 22,
   "metadata": {
    "id": "zsjp39ZWK27D",
    "tags": []
   },
   "outputs": [
    {
     "name": "stdout",
     "output_type": "stream",
     "text": [
      "## Bangalore Tourist Recommendation - Bicycle Mode\n",
      "\n",
      "Bangalore, also known as Bengaluru, offers a vibrant and diverse experience, with something for everyone. Exploring the city by bicycle allows you to immerse yourself in its unique atmosphere and discover hidden gems. Here's a possible itinerary for your bicycle tour:\n",
      "\n",
      "**Morning:**\n",
      "\n",
      "* Start your day with a visit to the majestic **Bangalore Palace**, a stunning example of Tudor architecture with beautifully landscaped gardens. Enjoy a leisurely cycle around the palace grounds, taking in the grandeur of this historical landmark.\n",
      "\n",
      "* Next, head towards the serene **Lalbagh Botanical Garden**, a haven of tranquility amidst the city's hustle and bustle. Explore the diverse plant life, including rare and exotic species, and enjoy a peaceful break amidst nature.\n",
      "\n",
      "**Afternoon:**\n",
      "\n",
      "* After lunch, pedal towards the iconic **Vidhana Soudha**, the state legislative assembly building. Admire its impressive architecture and learn about its historical significance.\n",
      "\n",
      "* Continue your ride to the bustling **Commercial Street**, a shopper's paradise with a wide variety of products, from traditional handicrafts to trendy fashion. Take a break and explore the local shops, finding unique souvenirs to take home.\n",
      "\n",
      "**Evening:**\n",
      "\n",
      "* As the sun sets, head towards **Cubbon Park**, a sprawling green oasis in the heart of the city. Enjoy a relaxing cycle around the park, taking in the beautiful scenery and the vibrant atmosphere.\n",
      "\n",
      "* Conclude your day with a delicious dinner at one of the many restaurants in the city. Sample the local cuisine or indulge in international flavors.\n",
      "\n",
      "**Additional Tips:**\n",
      "\n",
      "* Consider renting a bicycle from a reputable rental service or using a bike-sharing app.\n",
      "* Choose a route with dedicated cycle lanes for a safe and enjoyable experience.\n",
      "* Be aware of traffic rules and regulations, and ride responsibly.\n",
      "* Carry water and snacks for your journey.\n",
      "* Pack sunscreen and a hat for protection from the sun.\n",
      "\n",
      "**Places to Avoid:**\n",
      "\n",
      "* Avoid riding on busy roads with heavy traffic.\n",
      "* Steer clear of narrow lanes with limited visibility.\n",
      "* Be cautious during peak hours when traffic congestion is high.\n",
      "\n",
      "This itinerary offers a starting point for your Bangalore bicycle adventure. Feel free to customize it based on your interests and time constraints. Enjoy the ride and discover the beauty and charm of this vibrant city. \n",
      "\n"
     ]
    }
   ],
   "source": [
    "# TODO: Modify the examples below to guide the model to always generate\n",
    "# recommendations involving bicycles.\n",
    "\n",
    "prompt = \"\"\"\n",
    "    <INSTRUCTIONS>\n",
    "    Give a tourist recommendation for the input city.\n",
    "    </INSTRUCTIONS>\n",
    "\n",
    "    <EXAMPLES>\n",
    "    Input: Paris\n",
    "    Mode of transport : bicycle\n",
    "    Output: Take a bicycle ride to the Louvre and then to Montmartre.\n",
    "\n",
    "    Input: Washington D.C.\n",
    "    Mode of transport : bicycle\n",
    "    Output: Ride to the Lincoln Memorial.\n",
    "\n",
    "    Input: New York City\n",
    "    Mode of transport : bicycle\n",
    "    Output: Ride along the river bank.\n",
    "    </EXAMPLES>\n",
    "\n",
    "    <INPUT CITY>\n",
    "    Bangalore\n",
    "    </INPUT CITY>\"\"\"\n",
    "\n",
    "print_response(prompt)"
   ]
  },
  {
   "cell_type": "markdown",
   "metadata": {
    "id": "LvbIXnwqK27D"
   },
   "source": [
    "## Congratulations!\n",
    "\n",
    "If you have completed the steps above, you have demonstrated your ability to use several prompt engineering techniques."
   ]
  }
 ],
 "metadata": {
  "colab": {
   "name": "text_prompt_design_challenge_lab.ipynb",
   "provenance": [],
   "toc_visible": true
  },
  "environment": {
   "kernel": "conda-base-py",
   "name": "workbench-notebooks.m126",
   "type": "gcloud",
   "uri": "us-docker.pkg.dev/deeplearning-platform-release/gcr.io/workbench-notebooks:m126"
  },
  "kernelspec": {
   "display_name": "Python 3 (ipykernel) (Local) (Local)",
   "language": "python",
   "name": "conda-base-py"
  },
  "language_info": {
   "codemirror_mode": {
    "name": "ipython",
    "version": 3
   },
   "file_extension": ".py",
   "mimetype": "text/x-python",
   "name": "python",
   "nbconvert_exporter": "python",
   "pygments_lexer": "ipython3",
   "version": "3.10.15"
  }
 },
 "nbformat": 4,
 "nbformat_minor": 4
}
